{
  "nbformat": 4,
  "nbformat_minor": 0,
  "metadata": {
    "colab": {
      "provenance": []
    },
    "kernelspec": {
      "name": "python3",
      "display_name": "Python 3"
    },
    "accelerator": "GPU"
  },
  "cells": [
    {
      "cell_type": "code",
      "metadata": {
        "id": "w1hDk9hDvOH7",
        "colab": {
          "base_uri": "https://localhost:8080/",
          "height": 51
        },
        "outputId": "796c9436-20d8-4978-f1f5-1886b0c6432b"
      },
      "source": [
        "import pandas as pd\n",
        "from sklearn.preprocessing import label_binarize\n",
        "import numpy as np\n",
        "from sklearn.model_selection import train_test_split\n",
        "from sklearn.ensemble import RandomForestClassifier\n",
        "from sklearn.tree import DecisionTreeClassifier\n",
        "c\n",
        "from sklearn.metrics import classification_report, confusion_matrix\n",
        "from sklearn.ensemble import GradientBoostingClassifier\n",
        "\n",
        "import warnings\n",
        "warnings.filterwarnings(\"ignore\")\n",
        "#Please ignore the warnings with version change\n",
        "\n",
        "from google.colab import drive\n",
        "drive.mount('/gdrive')\n",
        "#Change current working directory to gdrive\n",
        "%cd /gdrive\n",
        "\n"
      ],
      "execution_count": null,
      "outputs": [
        {
          "output_type": "stream",
          "text": [
            "Mounted at /gdrive\n",
            "/gdrive\n"
          ],
          "name": "stdout"
        }
      ]
    },
    {
      "cell_type": "code",
      "metadata": {
        "id": "BMwGQK7KAd7T",
        "colab": {
          "base_uri": "https://localhost:8080/",
          "height": 258
        },
        "outputId": "41296f24-e386-443b-a428-1e87455d9490"
      },
      "source": [
        "trainfile = r'/gdrive/My Drive/CIS 508/Assignment 2/Portugese Bank Data - TRAIN.csv'\n",
        "trainData = pd.read_csv(trainfile) #creates a dataframe\n",
        "testfile = r'/gdrive/My Drive/CIS 508/Assignment 2/Portugese Bank Data - TEST.csv'\n",
        "testData = pd.read_csv(testfile)  #creates a dataframe\n",
        "\n",
        "\n",
        "print(trainData.shape)\n",
        "print(testData.shape)\n",
        "\n",
        "trainData.head()"
      ],
      "execution_count": null,
      "outputs": [
        {
          "output_type": "stream",
          "text": [
            "(4521, 17)\n",
            "(45211, 17)\n"
          ],
          "name": "stdout"
        },
        {
          "output_type": "execute_result",
          "data": {
            "text/html": [
              "<div>\n",
              "<style scoped>\n",
              "    .dataframe tbody tr th:only-of-type {\n",
              "        vertical-align: middle;\n",
              "    }\n",
              "\n",
              "    .dataframe tbody tr th {\n",
              "        vertical-align: top;\n",
              "    }\n",
              "\n",
              "    .dataframe thead th {\n",
              "        text-align: right;\n",
              "    }\n",
              "</style>\n",
              "<table border=\"1\" class=\"dataframe\">\n",
              "  <thead>\n",
              "    <tr style=\"text-align: right;\">\n",
              "      <th></th>\n",
              "      <th>age</th>\n",
              "      <th>job</th>\n",
              "      <th>marital</th>\n",
              "      <th>education</th>\n",
              "      <th>default</th>\n",
              "      <th>balance</th>\n",
              "      <th>housing</th>\n",
              "      <th>loan</th>\n",
              "      <th>contact</th>\n",
              "      <th>day</th>\n",
              "      <th>month</th>\n",
              "      <th>duration</th>\n",
              "      <th>campaign</th>\n",
              "      <th>pdays</th>\n",
              "      <th>previous</th>\n",
              "      <th>poutcome</th>\n",
              "      <th>y</th>\n",
              "    </tr>\n",
              "  </thead>\n",
              "  <tbody>\n",
              "    <tr>\n",
              "      <th>0</th>\n",
              "      <td>30</td>\n",
              "      <td>unemployed</td>\n",
              "      <td>married</td>\n",
              "      <td>primary</td>\n",
              "      <td>no</td>\n",
              "      <td>1787</td>\n",
              "      <td>no</td>\n",
              "      <td>no</td>\n",
              "      <td>cellular</td>\n",
              "      <td>19</td>\n",
              "      <td>oct</td>\n",
              "      <td>79</td>\n",
              "      <td>1</td>\n",
              "      <td>-1</td>\n",
              "      <td>0</td>\n",
              "      <td>unknown</td>\n",
              "      <td>no</td>\n",
              "    </tr>\n",
              "    <tr>\n",
              "      <th>1</th>\n",
              "      <td>33</td>\n",
              "      <td>services</td>\n",
              "      <td>married</td>\n",
              "      <td>secondary</td>\n",
              "      <td>no</td>\n",
              "      <td>4789</td>\n",
              "      <td>yes</td>\n",
              "      <td>yes</td>\n",
              "      <td>cellular</td>\n",
              "      <td>11</td>\n",
              "      <td>may</td>\n",
              "      <td>220</td>\n",
              "      <td>1</td>\n",
              "      <td>339</td>\n",
              "      <td>4</td>\n",
              "      <td>failure</td>\n",
              "      <td>no</td>\n",
              "    </tr>\n",
              "    <tr>\n",
              "      <th>2</th>\n",
              "      <td>35</td>\n",
              "      <td>management</td>\n",
              "      <td>single</td>\n",
              "      <td>tertiary</td>\n",
              "      <td>no</td>\n",
              "      <td>1350</td>\n",
              "      <td>yes</td>\n",
              "      <td>no</td>\n",
              "      <td>cellular</td>\n",
              "      <td>16</td>\n",
              "      <td>apr</td>\n",
              "      <td>185</td>\n",
              "      <td>1</td>\n",
              "      <td>330</td>\n",
              "      <td>1</td>\n",
              "      <td>failure</td>\n",
              "      <td>no</td>\n",
              "    </tr>\n",
              "    <tr>\n",
              "      <th>3</th>\n",
              "      <td>30</td>\n",
              "      <td>management</td>\n",
              "      <td>married</td>\n",
              "      <td>tertiary</td>\n",
              "      <td>no</td>\n",
              "      <td>1476</td>\n",
              "      <td>yes</td>\n",
              "      <td>yes</td>\n",
              "      <td>unknown</td>\n",
              "      <td>3</td>\n",
              "      <td>jun</td>\n",
              "      <td>199</td>\n",
              "      <td>4</td>\n",
              "      <td>-1</td>\n",
              "      <td>0</td>\n",
              "      <td>unknown</td>\n",
              "      <td>no</td>\n",
              "    </tr>\n",
              "    <tr>\n",
              "      <th>4</th>\n",
              "      <td>59</td>\n",
              "      <td>blue-collar</td>\n",
              "      <td>married</td>\n",
              "      <td>secondary</td>\n",
              "      <td>no</td>\n",
              "      <td>0</td>\n",
              "      <td>yes</td>\n",
              "      <td>no</td>\n",
              "      <td>unknown</td>\n",
              "      <td>5</td>\n",
              "      <td>may</td>\n",
              "      <td>226</td>\n",
              "      <td>1</td>\n",
              "      <td>-1</td>\n",
              "      <td>0</td>\n",
              "      <td>unknown</td>\n",
              "      <td>no</td>\n",
              "    </tr>\n",
              "  </tbody>\n",
              "</table>\n",
              "</div>"
            ],
            "text/plain": [
              "   age          job  marital  education  ... pdays  previous poutcome   y\n",
              "0   30   unemployed  married    primary  ...    -1         0  unknown  no\n",
              "1   33     services  married  secondary  ...   339         4  failure  no\n",
              "2   35   management   single   tertiary  ...   330         1  failure  no\n",
              "3   30   management  married   tertiary  ...    -1         0  unknown  no\n",
              "4   59  blue-collar  married  secondary  ...    -1         0  unknown  no\n",
              "\n",
              "[5 rows x 17 columns]"
            ]
          },
          "metadata": {
            "tags": []
          },
          "execution_count": 4
        }
      ]
    },
    {
      "cell_type": "code",
      "metadata": {
        "id": "SWOTk6C1Ao45"
      },
      "source": [
        "#List of Categorical Features\n",
        "categoricalFeatures = [\"job\", \"marital\", 'education', \"default\", \"housing\", \"loan\", 'contact', 'month','poutcome']\n",
        "\n",
        "#Combine Train and test for one Hot Encoding\n",
        "combined_Data = pd.concat([trainData,testData], keys=[0,1])\n",
        "\n",
        "#Do one Hot encoding for categorical features\n",
        "combined_Data = pd.get_dummies(combined_Data,columns=categoricalFeatures)\n",
        "\n",
        "#Separate Train data and test data\n",
        "trainData = combined_Data.xs(0)\n",
        "testData = combined_Data.xs(1)\n",
        "\n",
        "y_train = trainData[\"y\"]\n",
        "X_train = trainData.drop([\"y\"], axis=1) #extracting training data without the target column\n",
        "y_test = testData[\"y\"]\n",
        "X_test = testData.drop([\"y\"], axis=1) #extracting training data without the target column\n",
        "\n"
      ],
      "execution_count": null,
      "outputs": []
    },
    {
      "cell_type": "code",
      "metadata": {
        "id": "-Yd724taAv3o",
        "colab": {
          "base_uri": "https://localhost:8080/",
          "height": 102
        },
        "outputId": "348f4ccd-1938-4b72-e5e3-b8f39a746633"
      },
      "source": [
        "#Decision Tree Classifier ========================================================================\n",
        "#CONSTRUCT DEFAULT DECISION TREE AND OBTAIN RESPECTIVE ACCURACY\n",
        "clf = DecisionTreeClassifier()\n",
        "clf.fit(X_train, y_train)\n",
        "clf_predict=clf.predict(X_test)\n",
        "print(\"accuracy Score (testset) for Decision Tree:{0:6f}\".format(clf.score(X_test,y_test)))\n",
        "print()\n",
        "print(\"Confusion Matrix for Decision Tree\")\n",
        "print(confusion_matrix(y_test,clf_predict))\n",
        "\n"
      ],
      "execution_count": null,
      "outputs": [
        {
          "output_type": "stream",
          "text": [
            "accuracy Score (testset) for Decision Tree:0.881777\n",
            "\n",
            "Confusion Matrix for Decision Tree\n",
            "[[37114  2808]\n",
            " [ 2537  2752]]\n"
          ],
          "name": "stdout"
        }
      ]
    },
    {
      "cell_type": "code",
      "metadata": {
        "id": "acymCZogA1B1",
        "colab": {
          "base_uri": "https://localhost:8080/",
          "height": 85
        },
        "outputId": "16691366-de28-4caa-e6af-bd603c478351"
      },
      "source": [
        "#Hyperparameter tuning done for decision tree classifier\n",
        "#do random search\n",
        "print(\"RandomizedSearchCV-Decision tree\")\n",
        "parameters={'min_samples_leaf' : range(10,100,10),'max_depth': range(5,30,5),'criterion':['gini','entropy']}\n",
        "clf_random = RandomizedSearchCV(clf,parameters,n_iter=15,cv=5)\n",
        "clf_random.fit(X_train, y_train)\n",
        "grid_parm=clf_random.best_params_\n",
        "print(grid_parm)\n",
        "#Now do grid search\n",
        "print(\"GridSearchCV-Decision tree\")\n",
        "clf_grid = GridSearchCV(clf,parameters)\n",
        "clf_grid.fit(X_train, y_train)\n",
        "grid_parm1=clf_grid.best_params_\n",
        "print(grid_parm1)\n",
        "\n"
      ],
      "execution_count": null,
      "outputs": [
        {
          "output_type": "stream",
          "text": [
            "RandomizedSearchCV-Decision tree\n",
            "{'min_samples_leaf': 60, 'max_depth': 5, 'criterion': 'gini'}\n",
            "GridSearchCV-Decision tree\n",
            "{'criterion': 'entropy', 'max_depth': 5, 'min_samples_leaf': 30}\n"
          ],
          "name": "stdout"
        }
      ]
    },
    {
      "cell_type": "code",
      "metadata": {
        "id": "EesI2Lc7A587"
      },
      "source": [
        "#Using the parameters obtained from HyperParameterTuning in the DecisionTreeClassifier\n",
        "#Construct Decision Trees using the best parameters\n",
        "clf = DecisionTreeClassifier(min_samples_leaf= 60, max_depth= 5, criterion= 'gini')\n",
        "clfr = DecisionTreeClassifier(criterion= 'entropy', max_depth= 5, min_samples_leaf= 30)\n",
        "\n",
        "clf.fit(X_train,y_train)\n",
        "clf_predict = clf.predict(X_test)\n",
        "clfr.fit(X_train,y_train)\n",
        "clfr_predict = clfr.predict(X_test)\n",
        "\n",
        "\n"
      ],
      "execution_count": null,
      "outputs": []
    },
    {
      "cell_type": "code",
      "metadata": {
        "id": "UW1oB-MjBAjK",
        "colab": {
          "base_uri": "https://localhost:8080/",
          "height": 408
        },
        "outputId": "326f73d6-49ae-450b-b13b-69cae5424834"
      },
      "source": [
        "#Obtain accuracy ,confusion matrix,classification report and AUC values for the result above.\n",
        "print(\"accuracy Score (testset) after hypertuning randomized search for Decision Tree:{0:6f}\".format(clf.score(X_test,y_test)))\n",
        "print()\n",
        "print(\"accuracy Score (testset) after hypertuning grid search for Decision Tree:{0:6f}\".format(clfr.score(X_test,y_test)))\n",
        "print()\n",
        "print(\"Confusion Matrix after hypertuning for Decision Tree\")\n",
        "print(confusion_matrix(y_test,clf_predict))\n",
        "print()\n",
        "print(\"=== Classification Report ===\")\n",
        "print(classification_report(y_test,clf_predict))\n",
        "print()\n",
        "clf_cv_score = cross_val_score(clf, X_train, y_train, cv=10, scoring=\"balanced_accuracy\")\n",
        "print(clf_cv_score)\n",
        "print('\\n')\n",
        "\n",
        "\n"
      ],
      "execution_count": null,
      "outputs": [
        {
          "output_type": "stream",
          "text": [
            "accuracy Score (testset) after hypertuning randomized search for Decision Tree:0.896596\n",
            "\n",
            "accuracy Score (testset) after hypertuning grid search for Decision Tree:0.896220\n",
            "\n",
            "Confusion Matrix after hypertuning for Decision Tree\n",
            "[[38265  1657]\n",
            " [ 3018  2271]]\n",
            "\n",
            "=== Classification Report ===\n",
            "              precision    recall  f1-score   support\n",
            "\n",
            "          no       0.93      0.96      0.94     39922\n",
            "         yes       0.58      0.43      0.49      5289\n",
            "\n",
            "    accuracy                           0.90     45211\n",
            "   macro avg       0.75      0.69      0.72     45211\n",
            "weighted avg       0.89      0.90      0.89     45211\n",
            "\n",
            "\n",
            "[0.64537736 0.65346154 0.66269231 0.65096154 0.67567308 0.62336538\n",
            " 0.66980769 0.64009615 0.65346154 0.68903846]\n",
            "\n",
            "\n"
          ],
          "name": "stdout"
        }
      ]
    },
    {
      "cell_type": "code",
      "metadata": {
        "id": "M9KXPcUtBE_E",
        "colab": {
          "base_uri": "https://localhost:8080/",
          "height": 391
        },
        "outputId": "442f2906-8790-4af9-c44f-d8d9631597eb"
      },
      "source": [
        "#Normal randomforest==============================================================================\n",
        "#=================================================================================================\n",
        "rand_parameters={'min_samples_leaf' : range(10,100,10),'max_depth': range(1,10,2),'max_features':[2,3,4],'n_estimators':[20,30,40]}\n",
        "rfc = RandomForestClassifier()\n",
        "rfc.fit(X_train, y_train)\n",
        "rfc_predict=rfc.predict(X_test)\n",
        "print(\"accuracy Score (testset) for RandomForest:{0:6f}\".format(rfc.score(X_test,y_test)))\n",
        "print(\"Confusion Matrix for Random Forest:\")\n",
        "print(confusion_matrix(y_test,rfc_predict))\n",
        "#do random search with cross-validation\n",
        "rfc_random = RandomizedSearchCV(rfc,rand_parameters,n_iter=15,cv=5)\n",
        "rfc_random.fit(X_train, y_train)\n",
        "grid_parm_rfc=rfc_random.best_params_\n",
        "print(grid_parm_rfc)\n",
        "#create new classifier using the best parameters\n",
        "rfc= RandomForestClassifier(**grid_parm_rfc)\n",
        "rfc.fit(X_train,y_train)\n",
        "rfc_predict = rfc.predict(X_test)\n",
        "print(\"accuracy Score (testset) after hypertuning for Random Forest:{0:6f}\".format(rfc.score(X_test,y_test)))\n",
        "print(\"Confusion Matrix after hypertuning for Random Forest:\")\n",
        "print(confusion_matrix(y_test,rfc_predict))\n",
        "print(\"=== Classification Report ===\")\n",
        "print(classification_report(y_test,rfc_predict))\n",
        "rfc_cv_score = cross_val_score(rfc, X_train, y_train)\n",
        "print(rfc_cv_score)\n",
        "print('\\n')\n",
        "\n"
      ],
      "execution_count": null,
      "outputs": [
        {
          "output_type": "stream",
          "text": [
            "accuracy Score (testset) for RandomForest:0.912057\n",
            "Confusion Matrix for Random Forest:\n",
            "[[39243   679]\n",
            " [ 3297  1992]]\n",
            "{'n_estimators': 30, 'min_samples_leaf': 20, 'max_features': 4, 'max_depth': 9}\n",
            "accuracy Score (testset) after hypertuning for Random Forest:0.886045\n",
            "Confusion Matrix after hypertuning for Random Forest:\n",
            "[[39892    30]\n",
            " [ 5122   167]]\n",
            "=== Classification Report ===\n",
            "              precision    recall  f1-score   support\n",
            "\n",
            "          no       0.89      1.00      0.94     39922\n",
            "         yes       0.85      0.03      0.06      5289\n",
            "\n",
            "    accuracy                           0.89     45211\n",
            "   macro avg       0.87      0.52      0.50     45211\n",
            "weighted avg       0.88      0.89      0.84     45211\n",
            "\n",
            "[0.88839779 0.88495575 0.88495575 0.88495575 0.88495575]\n",
            "\n",
            "\n"
          ],
          "name": "stdout"
        }
      ]
    },
    {
      "cell_type": "code",
      "metadata": {
        "id": "r3D-s71uBJJJ",
        "colab": {
          "base_uri": "https://localhost:8080/",
          "height": 437
        },
        "outputId": "9c9b12ed-81a3-481e-ee98-0435c5d42e40"
      },
      "source": [
        "#Gradient Boosting================================================================================\n",
        "search_grid={'n_estimators':[5,10,20],'learning_rate':[0.01,.1,.2],'min_samples_leaf' : range(10,100,10),'max_depth': range(1,10,2)}\n",
        "abc =GradientBoostingClassifier()\n",
        "abc.fit(X_train, y_train)\n",
        "abc_predict=abc.predict(X_test)\n",
        "print(\"accuracy Score (testset) for Boosting:{0:6f}\".format(abc.score(X_test,y_test)))\n",
        "print(\"Confusion Matrix for boosting:\")\n",
        "print(confusion_matrix(y_test,abc_predict))\n",
        "abc_random = RandomizedSearchCV(abc,search_grid,n_iter=15)\n",
        "abc_random.fit(X_train, y_train)\n",
        "grid_parm_abc=abc_random.best_params_\n",
        "print(grid_parm_abc)\n",
        "abc= GradientBoostingClassifier(**grid_parm_abc)\n",
        "abc.fit(X_train,y_train)\n",
        "abc_predict = abc.predict(X_test)\n",
        "print(\"accuracy Score (testset) after hypertuning for Boosting:{0:6f}\".format(abc.score(X_test,y_test)))\n",
        "print(\"Confusion Matrix after hypertuning for Boosting:\")\n",
        "print(confusion_matrix(y_test,abc_predict))\n",
        "print(\"=== Classification Report ===\")\n",
        "print(classification_report(y_test,abc_predict))\n",
        "abc_cv_score = cross_val_score(abc, X_train, y_train)\n",
        "print(abc_cv_score)\n",
        "print('\\n')\n"
      ],
      "execution_count": null,
      "outputs": [
        {
          "output_type": "stream",
          "text": [
            "accuracy Score (testset) for Boosting:0.647500\n",
            "Confusion Matrix for boosting:\n",
            "[[ 98  16  27]\n",
            " [ 20  52  34]\n",
            " [ 25  19 109]]\n",
            "{'n_estimators': 10, 'min_samples_leaf': 70, 'max_depth': 5, 'learning_rate': 0.1}\n",
            "accuracy Score (testset) after hypertuning for Boosting:0.565000\n",
            "Confusion Matrix after hypertuning for Boosting:\n",
            "[[ 97   3  41]\n",
            " [ 38  25  43]\n",
            " [ 38  11 104]]\n",
            "=== Classification Report ===\n",
            "              precision    recall  f1-score   support\n",
            "\n",
            "           1       0.56      0.69      0.62       141\n",
            "           2       0.64      0.24      0.34       106\n",
            "           3       0.55      0.68      0.61       153\n",
            "\n",
            "    accuracy                           0.56       400\n",
            "   macro avg       0.58      0.53      0.52       400\n",
            "weighted avg       0.58      0.56      0.54       400\n",
            "\n",
            "[0.54576271 0.5220339  0.56610169 0.60544218 0.54761905]\n",
            "\n",
            "\n"
          ],
          "name": "stdout"
        }
      ]
    }
  ]
}